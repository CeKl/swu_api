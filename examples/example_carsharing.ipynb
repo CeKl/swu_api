{
 "cells": [
  {
   "cell_type": "markdown",
   "metadata": {},
   "source": [
    "# swu_api - carsahring - Documentation and use\n",
    "\n",
    "Python libary for the use of the public transport and carsharing API of the Stadtwerke Ulm / Neu-Ulm (SWU)."
   ]
  },
  {
   "cell_type": "markdown",
   "metadata": {},
   "source": [
    "## Import everything"
   ]
  },
  {
   "cell_type": "code",
   "execution_count": null,
   "metadata": {},
   "outputs": [],
   "source": [
    "from swu_api.swu_fuctions import swu_cs_functions\n",
    "\n",
    "swu_cs_func = swu_cs_functions()\n",
    "\n",
    "from swu_api.swu_helper import swu_api_cs_helper\n",
    "swu_cs_helper = swu_api_cs_helper(use_buffer=True)"
   ]
  },
  {
   "cell_type": "markdown",
   "metadata": {},
   "source": [
    "## Request data\n",
    "\n",
    "### Basic informations\n",
    "\n",
    "Get basic info of the carsharing API."
   ]
  },
  {
   "cell_type": "code",
   "execution_count": null,
   "metadata": {},
   "outputs": [],
   "source": [
    "swu_cs_func.basic_info()"
   ]
  },
  {
   "cell_type": "markdown",
   "metadata": {},
   "source": [
    "### System informations\n",
    "\n",
    "Get information of the system [swu2go](https://www.swu.de/privatkunden/produkte-leistungen/mobilitaet/swu2go/)."
   ]
  },
  {
   "cell_type": "code",
   "execution_count": null,
   "metadata": {},
   "outputs": [],
   "source": [
    "swu_cs_func.system_info()"
   ]
  },
  {
   "cell_type": "markdown",
   "metadata": {},
   "source": [
    "### Station informations\n",
    "\n",
    "Get information of all stations."
   ]
  },
  {
   "cell_type": "code",
   "execution_count": null,
   "metadata": {},
   "outputs": [],
   "source": [
    "swu_cs_func.station_info()"
   ]
  },
  {
   "cell_type": "markdown",
   "metadata": {},
   "source": [
    "### Status stations\n",
    "\n",
    "Get current status of all stations."
   ]
  },
  {
   "cell_type": "code",
   "execution_count": null,
   "metadata": {},
   "outputs": [],
   "source": [
    "swu_cs_func.station_status()"
   ]
  },
  {
   "cell_type": "markdown",
   "metadata": {},
   "source": [
    "## Helper"
   ]
  },
  {
   "cell_type": "markdown",
   "metadata": {},
   "source": [
    "### Station details\n",
    "\n",
    "Get details of a station for a given station id.\n",
    "\n",
    "Required parameter:\n",
    "- station_id (str): Id of station."
   ]
  },
  {
   "cell_type": "code",
   "execution_count": null,
   "metadata": {},
   "outputs": [],
   "source": [
    "swu_cs_helper.get_station_details(station_id='5162')"
   ]
  }
 ],
 "metadata": {
  "interpreter": {
   "hash": "bc053adbe29f4a6545a97dd8eb35d2b8fbcd53de4cc511e66f1f4161af4f196b"
  },
  "kernelspec": {
   "display_name": "Python 3.8.10 64-bit",
   "language": "python",
   "name": "python3"
  },
  "language_info": {
   "codemirror_mode": {
    "name": "ipython",
    "version": 3
   },
   "file_extension": ".py",
   "mimetype": "text/x-python",
   "name": "python",
   "nbconvert_exporter": "python",
   "pygments_lexer": "ipython3",
   "version": "3.8.10"
  },
  "orig_nbformat": 4
 },
 "nbformat": 4,
 "nbformat_minor": 2
}
