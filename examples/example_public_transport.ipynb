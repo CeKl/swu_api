{
 "cells": [
  {
   "cell_type": "markdown",
   "metadata": {},
   "source": [
    "# swu_api - public transport - Documentation and use\n",
    "\n",
    "Python libary for the use of the public transport and carsharing API of the Stadtwerke Ulm / Neu-Ulm (SWU)."
   ]
  },
  {
   "cell_type": "markdown",
   "metadata": {},
   "source": [
    "## Import everything"
   ]
  },
  {
   "cell_type": "code",
   "execution_count": null,
   "metadata": {},
   "outputs": [],
   "source": [
    "from swu_api.swu_fuctions import swu_pt_functions\n",
    "swu_pt_func = swu_pt_functions()\n",
    "\n",
    "from swu_api.swu_helper import swu_api_pt_helper\n",
    "swu_pt_helper = swu_api_pt_helper(use_buffer=True)\n",
    "\n",
    "from swu_api.swu_demo_data import api_to_json"
   ]
  },
  {
   "cell_type": "markdown",
   "metadata": {},
   "source": [
    "## Basedata"
   ]
  },
  {
   "cell_type": "markdown",
   "metadata": {},
   "source": [
    "### Route\n",
    "\n",
    "Get data of given route.\n",
    "\n",
    "Optionale parameters:\n",
    "- routenumber (int): Number of route. Defaults to 0 for all routes\n",
    "- contentscope (str): Level of detail. Defaults to basic. Use minimal / basic / extended"
   ]
  },
  {
   "cell_type": "code",
   "execution_count": null,
   "metadata": {},
   "outputs": [],
   "source": [
    "swu_pt_func.base_route(routenumber=0, contentscope='basic')"
   ]
  },
  {
   "cell_type": "markdown",
   "metadata": {},
   "source": [
    "### Stop\n",
    "\n",
    "Get data for a station.\n",
    "\n",
    "Optional parameters:\n",
    "- stopnumber (int): Number of stop. Defaults to 0 for all stops (4-digits)\n",
    "- contentscope (str): Level of detail. Defaults to basic. Use minimal / basic / extended"
   ]
  },
  {
   "cell_type": "code",
   "execution_count": null,
   "metadata": {},
   "outputs": [],
   "source": [
    "swu_pt_func.base_stop(stopnumber=0, contentscope='basic')"
   ]
  },
  {
   "cell_type": "markdown",
   "metadata": {},
   "source": [
    "### Platform of Stop\n",
    "\n",
    "Get platform of stop.\n",
    "\n",
    "Optional parameters:\n",
    "- stoppointcode (int): Code of stoppoint. Defaults to 0 for all stoppoints (6-digits)\n",
    "- contentscope (str): Level of detail. Defaults to basic. Use minimal / basic / extended"
   ]
  },
  {
   "cell_type": "code",
   "execution_count": null,
   "metadata": {},
   "outputs": [],
   "source": [
    "swu_pt_func.base_stop_point(stoppointcode=0, contentscope='basic')"
   ]
  },
  {
   "cell_type": "markdown",
   "metadata": {},
   "source": [
    "### Vehicle\n",
    "\n",
    "Get details of a vehicle.\n",
    "\n",
    "Optionale Parameter:\n",
    "- vehiclenumber (int): Number of vehicle. Defaults to 0 for all vehicles\n",
    "- contentscope (str): Level of detail. Defaults to extended. Use minimal / basic / extended"
   ]
  },
  {
   "cell_type": "code",
   "execution_count": null,
   "metadata": {},
   "outputs": [],
   "source": [
    "swu_pt_func.base_vehicle(vehiclenumber=0, contentscope='basic')"
   ]
  },
  {
   "cell_type": "markdown",
   "metadata": {},
   "source": [
    "## Livedata"
   ]
  },
  {
   "cell_type": "markdown",
   "metadata": {},
   "source": [
    "### Stop - Departures\n",
    "\n",
    "Get depatures of a station by stopnumber.\n",
    "\n",
    "Required parameter:\n",
    "- stopnumber (int): Number of stop (4-digits)\n",
    "\n",
    "Recommended parameter:\n",
    "- limit (int): Number of departures. Defaults to 5"
   ]
  },
  {
   "cell_type": "code",
   "execution_count": null,
   "metadata": {},
   "outputs": [],
   "source": [
    "swu_pt_func.live_stop_departures(stopnumber=1000, limit=5)"
   ]
  },
  {
   "cell_type": "markdown",
   "metadata": {},
   "source": [
    "### Stop - Arrivals\n",
    "\n",
    "Get arrivals of a station by stopnumber.\n",
    "\n",
    "Required parameter:\n",
    "- stopnumber (int): Number of stop (4-digits)\n",
    "\n",
    "Recommended parameter:\n",
    "- limit (int): Number of departures. Defaults to 5"
   ]
  },
  {
   "cell_type": "code",
   "execution_count": null,
   "metadata": {},
   "outputs": [],
   "source": [
    "swu_pt_func.live_stop_arrivals(stopnumber=1000, limit=5)"
   ]
  },
  {
   "cell_type": "markdown",
   "metadata": {},
   "source": [
    "### StopPoint - Departures\n",
    "\n",
    "Get departures of a station by stoppointcode.\n",
    "\n",
    "Required parameter:\n",
    "- stoppointcode (int): Code of stoppoint (6-digits)\n",
    "\n",
    "Recommended parameter:\n",
    "- limit (int): Number of departures. Defaults to 5\n"
   ]
  },
  {
   "cell_type": "code",
   "execution_count": null,
   "metadata": {},
   "outputs": [],
   "source": [
    "swu_pt_func.live_stop_point_departures(stoppointcode=130011, limit=5)"
   ]
  },
  {
   "cell_type": "markdown",
   "metadata": {},
   "source": [
    "### StopPoint - Arrivals \n",
    "\n",
    "Get arrivals of a station by stoppointcode.\n",
    "\n",
    "Required parameter:\n",
    "- stoppointcode (int): Code of stoppoint (6-digits)\n",
    "\n",
    "Recommended parameter:\n",
    "- limit (int): Number of departures. Defaults to 5"
   ]
  },
  {
   "cell_type": "code",
   "execution_count": null,
   "metadata": {},
   "outputs": [],
   "source": [
    "swu_pt_func.live_stop_point_arrivals(stoppointcode=130011, limit=5)"
   ]
  },
  {
   "cell_type": "markdown",
   "metadata": {},
   "source": [
    "### Vehicle - Trip\n",
    "\n",
    "Get trip of vehicle.\n",
    "\n",
    "Optional parameter:\n",
    "- vehiclenumber (int): Number of vehicle. Use "
   ]
  },
  {
   "cell_type": "code",
   "execution_count": null,
   "metadata": {},
   "outputs": [],
   "source": [
    "swu_pt_func.live_vehicle_trip(vehiclenumber=0)"
   ]
  },
  {
   "cell_type": "markdown",
   "metadata": {},
   "source": [
    "### Vehicle - Passage\n",
    "\n",
    "Get passage of vehicle.\n",
    "\n",
    "Required parameter:\n",
    "- vehiclenumber (int): Number of vehicle\n",
    "\n",
    "Optional parameter:\n",
    "- range_value (str): Range of results. Defaults to all. Use all / upcomming\n"
   ]
  },
  {
   "cell_type": "code",
   "execution_count": null,
   "metadata": {},
   "outputs": [],
   "source": [
    "swu_pt_func.live_vehicle_passage(vehiclenumber=42, range_value='all')"
   ]
  },
  {
   "cell_type": "markdown",
   "metadata": {},
   "source": [
    "### Vehicle - Pattern\n",
    "\n",
    "Pattern of vehicel.\n",
    "\n",
    "Required parameter:\n",
    "- vehiclenumber (int): Number of vehicle\n",
    "\n",
    "Optional parameter:\n",
    "- contentscope (str): Type of return. Defaults to Track. Use Stops / Track / Carriageway"
   ]
  },
  {
   "cell_type": "code",
   "execution_count": null,
   "metadata": {},
   "outputs": [],
   "source": [
    "swu_pt_func.live_vehicle_pattern(vehiclenumber=42, contentscope='Track')"
   ]
  },
  {
   "cell_type": "markdown",
   "metadata": {},
   "source": [
    "## Helper"
   ]
  },
  {
   "cell_type": "markdown",
   "metadata": {},
   "source": [
    "### Station info\n",
    "\n",
    "Get basic data of a station with searchterm for searchparameter\n",
    "\n",
    "Required parameters:\n",
    "- serach_parameter (str): Category for serach. Use StopName / StopPointCode / StopNumber\n",
    "- searchparameter (str): String to be searched in parameter. "
   ]
  },
  {
   "cell_type": "code",
   "execution_count": null,
   "metadata": {},
   "outputs": [],
   "source": [
    "swu_pt_helper.get_station_info(serach_parameter='StopName', serach_term='Justizgebäude')"
   ]
  },
  {
   "cell_type": "markdown",
   "metadata": {},
   "source": [
    "### Vehicle info\n",
    "\n",
    "Get basic data of a vehicle.\n",
    "\n",
    "Required parameter:\n",
    "- vehiclenumber (int): Number of the vehicle."
   ]
  },
  {
   "cell_type": "code",
   "execution_count": null,
   "metadata": {},
   "outputs": [],
   "source": [
    "swu_pt_helper.get_vehicle_info(vehiclenumber=42)"
   ]
  },
  {
   "cell_type": "markdown",
   "metadata": {},
   "source": [
    "### Route direction\n",
    "\n",
    "Get direcction of a route. Useful in combination with get_route().\n",
    "\n",
    "Required parameter:\n",
    "- vehiclenumber (int): Number of vehicle"
   ]
  },
  {
   "cell_type": "code",
   "execution_count": null,
   "metadata": {},
   "outputs": [],
   "source": [
    "swu_pt_helper.get_route_direction(routenumber=1)"
   ]
  },
  {
   "cell_type": "markdown",
   "metadata": {},
   "source": [
    "### Route\n",
    "\n",
    "Get routepoints for given routenumber and direction.\n",
    "\n",
    "Required parameters:\n",
    "- routenumber (int): Number of route\n",
    "- direction (int): Direction of route"
   ]
  },
  {
   "cell_type": "code",
   "execution_count": null,
   "metadata": {},
   "outputs": [],
   "source": [
    "swu_pt_helper.get_route(routenumber=1, direction=1)"
   ]
  },
  {
   "cell_type": "markdown",
   "metadata": {},
   "source": [
    "## Save API examples\n",
    "\n",
    "Required parameters:\n",
    "- save_filter (str): API type to look for. Use all / base / live\n",
    "- folderpath (str): Path of folder to save data. Folder have to exist."
   ]
  },
  {
   "cell_type": "code",
   "execution_count": null,
   "metadata": {},
   "outputs": [],
   "source": [
    "swu_demo = api_to_json(save_filter='all', folderpath='C:/Users/Default/Desktop/swu_data')"
   ]
  }
 ],
 "metadata": {
  "interpreter": {
   "hash": "ece033c8abb0f6ec2f20237b3a604380a581721716fb152c9f87053cf29eb2b8"
  },
  "kernelspec": {
   "display_name": "Python 3.8.6 64-bit",
   "name": "python3"
  },
  "language_info": {
   "codemirror_mode": {
    "name": "ipython",
    "version": 3
   },
   "file_extension": ".py",
   "mimetype": "text/x-python",
   "name": "python",
   "nbconvert_exporter": "python",
   "pygments_lexer": "ipython3",
   "version": "3.8.10"
  },
  "orig_nbformat": 4
 },
 "nbformat": 4,
 "nbformat_minor": 2
}
